{
 "cells": [
  {
   "cell_type": "markdown",
   "metadata": {},
   "source": [
    "## Calculating top of descent\n",
    "### Given:\n",
    "$a$ = altitude\n",
    "\n",
    "$a_p$ = vertical deceleration\n",
    "\n",
    "We calculate $x_p$ (horizontal change in velocity) from altitude\n",
    "\n",
    "\n",
    "$\\gamma$=angle of descent"
   ]
  },
  {
   "cell_type": "markdown",
   "metadata": {},
   "source": [
    "Going to need to add in tk stuff but for now i will just do the calculations. Whatever altitude given, need to subtract 3000 ft."
   ]
  },
  {
   "cell_type": "code",
   "execution_count": 84,
   "metadata": {
    "collapsed": false
   },
   "outputs": [],
   "source": [
    "import numpy as np\n",
    "def dist(a,a_p,alpha):\n",
    "    a = float(a)\n",
    "    a_p = float(a_p)\n",
    "    alpha = float(alpha)\n",
    "    gamma = 90-alpha\n",
    "    S1=0 #speed of first leg\n",
    "    n = 100\n",
    "    for i in range(0,n):\n",
    "        h = (a-i*((a-1600)/n)) #altitude\n",
    "        S1 += .69*(340-(140/120000)*h) #using speed of sound calculations given altitude and mach speed\n",
    "    S1 = S1/n #averaging for leg 1\n",
    "    S2 = 0\n",
    "    for i in range(0,n):\n",
    "        S2+= 25317\n",
    "    S2 = S2/n\n",
    "    x_p=S1+S2\n",
    "    ang_val = (np.cos(gamma*(np.pi/180.)))**2\n",
    "    x = ((a*a_p)/x_p)*(1/ang_val-1)*0.000164579\n",
    "    return x"
   ]
  },
  {
   "cell_type": "code",
   "execution_count": null,
   "metadata": {
    "collapsed": false
   },
   "outputs": [],
   "source": [
    "#!/usr/bin/python3\n",
    "import numpy as np\n",
    "from Tkinter import *\n",
    "fields = ('Altitude', 'Descent Rate', 'Angle of Descent', 'Distance in NM')\n",
    "\n",
    "\n",
    "def dist(entries):\n",
    "    a = (float(entries['Altitude'].get()))\n",
    "    a_p = (float(entries['Descent Rate'].get()))\n",
    "    alpha = (float(entries['Angle of Descent'].get()))\n",
    "    gamma = 90-alpha\n",
    "    S1=0 #speed of first leg\n",
    "    n = 100\n",
    "    for i in range(0,n):\n",
    "        h = (a-i*((a-1600)/n)) #altitude\n",
    "        S1 += .69*(340-(140/120000)*h) #using speed of sound calculations given altitude and mach speed\n",
    "    S1 = S1/n #averaging for leg 1\n",
    "    S2 = 0\n",
    "    for i in range(0,n):\n",
    "        S2+= 25317\n",
    "    S2 = S2/n\n",
    "    x_p=S1+S2\n",
    "    ang_val = (np.cos(gamma*(np.pi/180.)))**2\n",
    "    x = ((a*a_p)/x_p)*(1/ang_val-1)*0.000164579\n",
    "    entries['Distance in NM'].delete(0,END)\n",
    "    entries['Distance in NM'].insert(0, x )\n",
    "    #print(\"Distance in NM: %f\" % float(x))\n",
    "    \n",
    "def makeform(root, fields):\n",
    "    entries = {}\n",
    "    vals=[35000,1800,3,0]\n",
    "    count = 0 \n",
    "    for field in fields:\n",
    "        row = Frame(root)\n",
    "        lab = Label(row, width=22, text=field+\": \", anchor='w')\n",
    "        ent = Entry(row)\n",
    "        ent.insert(vals[count],str(vals[count]))\n",
    "        row.pack(side=TOP, fill=X, padx=5, pady=5)\n",
    "        lab.pack(side=LEFT)\n",
    "        ent.pack(side=RIGHT, expand=YES, fill=X)\n",
    "        entries[field] = ent\n",
    "        count +=1\n",
    "    return entries\n",
    "\n",
    "if __name__ == '__main__':\n",
    "    root = Tk()\n",
    "    ents = makeform(root, fields)\n",
    "    #root.bind('', (lambda event, e=ents: fetch(e)))   \n",
    "    b2 = Button(root, text='Distance',\n",
    "          command=(lambda e=ents: dist(e)))\n",
    "    b2.pack(side=LEFT, padx=5, pady=5)\n",
    "    b3 = Button(root, text='Quit', command=root.quit)\n",
    "    b3.pack(side=LEFT, padx=5, pady=5)\n",
    "    root.mainloop()"
   ]
  },
  {
   "cell_type": "code",
   "execution_count": null,
   "metadata": {
    "collapsed": true
   },
   "outputs": [],
   "source": []
  },
  {
   "cell_type": "code",
   "execution_count": null,
   "metadata": {
    "collapsed": true
   },
   "outputs": [],
   "source": []
  }
 ],
 "metadata": {
  "anaconda-cloud": {},
  "kernelspec": {
   "display_name": "Python [default]",
   "language": "python",
   "name": "python2"
  },
  "language_info": {
   "codemirror_mode": {
    "name": "ipython",
    "version": 2
   },
   "file_extension": ".py",
   "mimetype": "text/x-python",
   "name": "python",
   "nbconvert_exporter": "python",
   "pygments_lexer": "ipython2",
   "version": "2.7.12"
  }
 },
 "nbformat": 4,
 "nbformat_minor": 1
}
