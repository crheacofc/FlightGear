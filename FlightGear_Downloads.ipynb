{
 "cells": [
  {
   "cell_type": "code",
   "execution_count": 1,
   "metadata": {
    "collapsed": false
   },
   "outputs": [],
   "source": [
    "import urllib\n",
    "import zipfile\n",
    "import os\n",
    "from bs4 import BeautifulSoup"
   ]
  },
  {
   "cell_type": "code",
   "execution_count": 8,
   "metadata": {
    "collapsed": false
   },
   "outputs": [
    {
     "name": "stdout",
     "output_type": "stream",
     "text": [
      "Please type the name of the aircraft (i.e. A320-family) you would like to install surrounded by ' ' :\n",
      "'A320-family'\n",
      "Please type the name of the aircraft livery (i.e. Airbus A320) you would like to install surrounded by ' ' :\n",
      "'Airbus A320'\n"
     ]
    }
   ],
   "source": [
    "family = input(\"Please type the name of the aircraft (i.e. A320-family) you would like to install surrounded by ' ' :\\n\")\n",
    "name = input(\"Please type the name of the aircraft livery (i.e. Airbus A320) you would like to install surrounded by ' ' :\\n\")\n",
    "os.chdir(\"/Applications/FlightGear.app/Contents/Resources/data/Aircraft/\")\n",
    "#check is directory already exists\n",
    "if os.path.isdir(\"/Applications/FlightGear.app/Contents/Resources/data/Aircraft/\"+family):\n",
    "    pass\n",
    "else:\n",
    "    os.mkdir(family)"
   ]
  },
  {
   "cell_type": "markdown",
   "metadata": {},
   "source": [
    "# Get plane"
   ]
  },
  {
   "cell_type": "code",
   "execution_count": 9,
   "metadata": {
    "collapsed": false
   },
   "outputs": [],
   "source": [
    "##Create folder to store new plane zip in\n",
    "\n",
    "#os.chdir(\"/Applications/FlightGear.app/Contents/Resources/data/Aircraft/\")\n",
    "#if os.path.isdir(\"/Applications/FlightGear.app/Contents/Resources/data/Aircraft/\"+family):\n",
    "#    pass\n",
    "#else:\n",
    "#    os.mkdir(family)\n",
    "zip_ = urllib.urlretrieve (\"http://mirrors.ibiblio.org/flightgear/ftp/Aircraft/\"+family+\".zip\", \"plane.zip\")\n",
    "zip_ref = zipfile.ZipFile(\"plane.zip\", 'r')\n",
    "zip_ref.extractall(\"/Applications/FlightGear.app/Contents/Resources/data/Aircraft/\")\n",
    "zip_ref.close()\n",
    "\n"
   ]
  },
  {
   "cell_type": "markdown",
   "metadata": {},
   "source": [
    "# Get all associated Liveries"
   ]
  },
  {
   "cell_type": "code",
   "execution_count": 13,
   "metadata": {
    "collapsed": false
   },
   "outputs": [
    {
     "name": "stdout",
     "output_type": "stream",
     "text": [
      "download/Airbus/A320/ADR.zip\n",
      "download/Airbus/A320/EIN.zip\n",
      "download/Airbus/A320/AFL.zip\n"
     ]
    },
    {
     "data": {
      "text/plain": [
       "0"
      ]
     },
     "execution_count": 13,
     "metadata": {},
     "output_type": "execute_result"
    }
   ],
   "source": [
    "# Step 0: Get name of aircraft\n",
    "# 1 - parse webpage and pick out liveries for our plane of interest\n",
    "planes = urllib.urlopen(\"http://liveries.flightgear.org/liveries.php\")\n",
    "soups = BeautifulSoup(planes, \"html.parser\")\n",
    "data = soups.findAll('a',attrs={'class':'thumbnail'})\n",
    "count = 0\n",
    "\n",
    "for ind in data:\n",
    "    type_ = ind.findAll('div',text=name) ##only getting plane livery of interest\n",
    "    if (type_!=[]):\n",
    "        #print(ind)\n",
    "        #now to go to where the name of the zi[ is]\n",
    "        plane = urllib.urlopen(\"http://liveries.flightgear.org/\"+str(ind['href']))\n",
    "        soup = BeautifulSoup(plane, \"html.parser\")\n",
    "        ## now grabbing link for download\n",
    "        for link in soup.find_all('a', href=True, text = 'DOWNLOAD'):\n",
    "            print(link['href'])\n",
    "            #print(link)\n",
    "            #os.chdir(\"/Applications/FlightGear.app/Contents/Resources/data/Aircraft/\"+name)\n",
    "            #os.mkdir(str(count))\n",
    "            zip_ = urllib.urlretrieve (\"http://liveries.flightgear.org/\"+str(link['href']), \"plane_liv.zip\")\n",
    "            zip_ref = zipfile.ZipFile(\"plane_liv.zip\", 'r')\n",
    "            zip_ref.extractall(\"/Applications/FlightGear.app/Contents/Resources/data/Aircraft/\"+family+\"/Models/Liveries/\"+name+\"/\")\n",
    "            zip_ref.close()\n",
    "            #check if there were three or two directories created...\n",
    "            if (os.path.isdir(\"/Applications/FlightGear.app/Contents/Resources/data/Aircraft/\"+family+\"/Models/Liveries/\"+name+\"/Models/Liveries/\"+name)):\n",
    "                os.chdir(\"/Applications/FlightGear.app/Contents/Resources/data/Aircraft/\"+family+\"/Models/Liveries/\"+name+\"/Models/Liveries/\"+name)\n",
    "                os.system(\"cp *.xml ../../..\")\n",
    "                os.system(\"cp *.png ../../../..\")\n",
    "            else:\n",
    "                os.chdir(\"/Applications/FlightGear.app/Contents/Resources/data/Aircraft/\"+family+\"/Models/Liveries/\"+name+\"/Models/Liveries/\")\n",
    "                os.system(\"cp *.xml ../..\")\n",
    "                os.system(\"cp *.png ../../..\")\n",
    "            os.chdir(\"/Applications/FlightGear.app/Contents/Resources/data/Aircraft/\"+family+\"/Models/Liveries/\"+name)\n",
    "            \n",
    "            #now need to only leave .xml file here...\n",
    "    count +=1\n",
    "os.system(\"rm -rf Models\")\n",
    "os.system(\"rm -r plane.zip\")\n",
    "os.system(\"rm -r plane_liv.zip\")\n"
   ]
  },
  {
   "cell_type": "code",
   "execution_count": null,
   "metadata": {
    "collapsed": true
   },
   "outputs": [],
   "source": []
  }
 ],
 "metadata": {
  "anaconda-cloud": {},
  "kernelspec": {
   "display_name": "Python [default]",
   "language": "python",
   "name": "python2"
  },
  "language_info": {
   "codemirror_mode": {
    "name": "ipython",
    "version": 2
   },
   "file_extension": ".py",
   "mimetype": "text/x-python",
   "name": "python",
   "nbconvert_exporter": "python",
   "pygments_lexer": "ipython2",
   "version": "2.7.12"
  }
 },
 "nbformat": 4,
 "nbformat_minor": 1
}
